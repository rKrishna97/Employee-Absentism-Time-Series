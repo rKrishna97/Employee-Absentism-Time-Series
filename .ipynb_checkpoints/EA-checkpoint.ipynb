{
 "cells": [
  {
   "cell_type": "code",
   "execution_count": null,
   "metadata": {},
   "outputs": [],
   "source": [
    "# Importing the required libraries\n",
    "import os \n",
    "import pandas as pd \n",
    "import numpy as np\n",
    "import matplotlib.pyplot as plt\n",
    "import seaborn as sns\n",
    "from sklearn.model_selection import train_test_split\n",
    "from sklearn.metrics import mean_absolute_error\n",
    "from sklearn.metrics import mean_squared_error\n",
    "from sklearn.metrics import r2_score\n",
    "from sklearn.tree import DecisionTreeRegressor\n",
    "from sklearn.ensemble import RandomForestRegressor\n",
    "from sklearn.neighbors import KNeighborsRegressor\n",
    "from sklearn.linear_model import LinearRegression\n",
    "from sklearn.ensemble import GradientBoostingRegressor\n",
    "from fancyimpute import KNN\n",
    "import random\n",
    "import re\n",
    "from statsmodels.formula.api import ols\n",
    "from statsmodels.stats.anova import anova_lm\n",
    "from statsmodels.graphics.tsaplots import plot_acf\n",
    "from statsmodels.tsa.arima_model import ARIMA\n",
    "from statsmodels.tsa.stattools import adfuller\n",
    "import itertools\n",
    "from scipy import stats\n",
    "from statsmodels.tsa.stattools import acf, pacf\n",
    "import warnings\n",
    "\n",
    "sns.set(style=\"ticks\", color_codes=True)\n",
    "pd.set_option('display.max_columns', 380)\n",
    "pd.set_option('display.width', 140)\n",
    "pd.set_option('display.max_rows', 380)\n",
    "%matplotlib inline\n",
    "\n",
    "warnings.filterwarnings('ignore')"
   ]
  },
  {
   "cell_type": "code",
   "execution_count": null,
   "metadata": {
    "scrolled": true
   },
   "outputs": [],
   "source": [
    "# Choosing Working Directory\n",
    "os.chdir(r\"C:\\Users\\Krishna\\Google Drive\\Data Science\\Project\\Edwisor\\Project 1\")\n",
    "os.getcwd()"
   ]
  },
  {
   "cell_type": "code",
   "execution_count": null,
   "metadata": {},
   "outputs": [],
   "source": [
    "# Import the data\n",
    "data_original = pd.read_excel(\"Absenteeism_at_work_Project.xls\")\n",
    "data = data_original.copy()\n"
   ]
  },
  {
   "cell_type": "code",
   "execution_count": null,
   "metadata": {},
   "outputs": [],
   "source": [
    "data.head(8)"
   ]
  },
  {
   "cell_type": "code",
   "execution_count": null,
   "metadata": {},
   "outputs": [],
   "source": [
    "data.columns"
   ]
  },
  {
   "cell_type": "code",
   "execution_count": null,
   "metadata": {},
   "outputs": [],
   "source": [
    "data.rename(columns={'Work load Average/day ':'Work load Average per day'}, inplace = True)"
   ]
  },
  {
   "cell_type": "code",
   "execution_count": null,
   "metadata": {},
   "outputs": [],
   "source": [
    "data.columns = data.columns.str.replace(\" \", \"_\")"
   ]
  },
  {
   "cell_type": "code",
   "execution_count": null,
   "metadata": {},
   "outputs": [],
   "source": [
    "data['Absenteeism_time_in_hours'].unique()"
   ]
  },
  {
   "cell_type": "markdown",
   "metadata": {},
   "source": [
    "There are employees with zero hours of absence so we will remove them"
   ]
  },
  {
   "cell_type": "code",
   "execution_count": null,
   "metadata": {},
   "outputs": [],
   "source": [
    "data = data.loc[data['Absenteeism_time_in_hours'] != 0,:]"
   ]
  },
  {
   "cell_type": "code",
   "execution_count": null,
   "metadata": {},
   "outputs": [],
   "source": [
    "data.shape"
   ]
  },
  {
   "cell_type": "code",
   "execution_count": null,
   "metadata": {},
   "outputs": [],
   "source": [
    "data.columns"
   ]
  },
  {
   "cell_type": "code",
   "execution_count": null,
   "metadata": {},
   "outputs": [],
   "source": [
    "categorical_col = ['ID', 'Reason_for_absence', 'Month_of_absence', 'Day_of_the_week', 'Seasons', 'Disciplinary_failure',\n",
    "                  'Education', 'Social_drinker', 'Social_smoker']\n",
    "categorical_col"
   ]
  },
  {
   "cell_type": "code",
   "execution_count": null,
   "metadata": {},
   "outputs": [],
   "source": [
    "continuous_col = data.columns.drop(categorical_col).tolist()\n",
    "continuous_col"
   ]
  },
  {
   "cell_type": "code",
   "execution_count": null,
   "metadata": {},
   "outputs": [],
   "source": [
    "continuous_col_wo_target = continuous_col[0:11]\n",
    "print(continuous_col_wo_target)"
   ]
  },
  {
   "cell_type": "code",
   "execution_count": null,
   "metadata": {},
   "outputs": [],
   "source": [
    "continuous_data = data.loc[:,continuous_col_wo_target]\n",
    "continuous_data.head()"
   ]
  },
  {
   "cell_type": "code",
   "execution_count": null,
   "metadata": {},
   "outputs": [],
   "source": [
    "categorical_data = data.loc[:,categorical_col]\n",
    "categorical_data.head()"
   ]
  },
  {
   "cell_type": "code",
   "execution_count": null,
   "metadata": {},
   "outputs": [],
   "source": [
    "target_data = pd.DataFrame(data['Absenteeism_time_in_hours'])\n",
    "target_data.head()"
   ]
  },
  {
   "cell_type": "markdown",
   "metadata": {},
   "source": [
    "# Missing Value Analysis"
   ]
  },
  {
   "cell_type": "code",
   "execution_count": null,
   "metadata": {},
   "outputs": [],
   "source": [
    "# Creating dataframe of columns with missing values and its count\n",
    "missing_val = pd.DataFrame(data.isna().sum())\n",
    "missing_val = missing_val.reset_index()\n",
    "missing_val = missing_val.rename(columns = {'index':'Variable', 0:'Sum of missing values'})\n",
    "missing_val = missing_val.sort_values(\"Sum of missing values\", ascending=False)\n",
    "print(missing_val)"
   ]
  },
  {
   "cell_type": "code",
   "execution_count": null,
   "metadata": {},
   "outputs": [],
   "source": [
    "plt.figure(figsize=(15,7))\n",
    "plt.xticks(rotation='vertical')\n",
    "plt.bar(missing_val['Variable'], missing_val['Sum of missing values'])"
   ]
  },
  {
   "cell_type": "code",
   "execution_count": null,
   "metadata": {},
   "outputs": [],
   "source": [
    "\n",
    "continuous_data = pd.DataFrame(KNN(k=3).fit_transform(continuous_data), columns = continuous_data.columns)"
   ]
  },
  {
   "cell_type": "code",
   "execution_count": null,
   "metadata": {},
   "outputs": [],
   "source": [
    "continuous_data.isna().sum()"
   ]
  },
  {
   "cell_type": "code",
   "execution_count": null,
   "metadata": {},
   "outputs": [],
   "source": [
    "categorical_data.isna().sum()"
   ]
  },
  {
   "cell_type": "code",
   "execution_count": null,
   "metadata": {},
   "outputs": [],
   "source": [
    "sns.catplot(x='Reason_for_absence', y=\"Absenteeism_time_in_hours\", kind=\"box\", data=data,height=7.5,aspect=12/7.5)"
   ]
  },
  {
   "cell_type": "code",
   "execution_count": null,
   "metadata": {},
   "outputs": [],
   "source": [
    "# Imputing categorical data\n",
    "\n",
    "# Missing value in Reason for absence will be replaces with Reason for absence with least absence hour. i.e Reason 27 as it is less than 10\n",
    "categorical_data.loc[categorical_data['Reason_for_absence'].isnull(),'Reason_for_absence'] = 27"
   ]
  },
  {
   "cell_type": "code",
   "execution_count": null,
   "metadata": {
    "scrolled": true
   },
   "outputs": [],
   "source": [
    "a = pd.Series(data[\"Reason_for_absence\"])\n",
    "a.value_counts()"
   ]
  },
  {
   "cell_type": "markdown",
   "metadata": {},
   "source": [
    "We have zero category in Reason of absence, So it will be replaced with 26 i.e unjustified absence"
   ]
  },
  {
   "cell_type": "code",
   "execution_count": null,
   "metadata": {},
   "outputs": [],
   "source": [
    "categorical_data.loc[categorical_data['Reason_for_absence']==0,'Reason_for_absence'] = 26"
   ]
  },
  {
   "cell_type": "code",
   "execution_count": null,
   "metadata": {},
   "outputs": [],
   "source": [
    "categorical_data.loc[categorical_data['Month_of_absence'].isnull(),'Month_of_absence'] = 10"
   ]
  },
  {
   "cell_type": "code",
   "execution_count": null,
   "metadata": {},
   "outputs": [],
   "source": [
    "categorical_data.loc[categorical_data[\"Disciplinary_failure\"].isnull(),'Disciplinary_failure'] = 0 "
   ]
  },
  {
   "cell_type": "code",
   "execution_count": null,
   "metadata": {},
   "outputs": [],
   "source": [
    "for i in [11,10,34,14,24]:\n",
    "    categorical_data.loc[(categorical_data['Education'].isnull()) & (categorical_data['ID']==i),'Education'] = categorical_data.loc[categorical_data['ID']==i,'Education'].mode()[0]"
   ]
  },
  {
   "cell_type": "code",
   "execution_count": null,
   "metadata": {},
   "outputs": [],
   "source": [
    "for i in [10,14,17]:\n",
    "    categorical_data.loc[(categorical_data['Social_drinker'].isnull()) & (categorical_data['ID']==i),'Social_drinker'] = categorical_data.loc[categorical_data['ID']==i,'Social_drinker'].mode()[0]"
   ]
  },
  {
   "cell_type": "code",
   "execution_count": null,
   "metadata": {},
   "outputs": [],
   "source": [
    "for i in [34,1,11,15]:\n",
    "    categorical_data.loc[(categorical_data['Social_smoker'].isnull()) & (categorical_data['ID']==i),'Social_smoker'] = categorical_data.loc[categorical_data['ID']==i,'Social_smoker'].mode()[0]"
   ]
  },
  {
   "cell_type": "code",
   "execution_count": null,
   "metadata": {},
   "outputs": [],
   "source": [
    "target_data[\"Reason_for_absence\"] = categorical_data[\"Reason_for_absence\"]\n",
    "type(target_data)"
   ]
  },
  {
   "cell_type": "code",
   "execution_count": null,
   "metadata": {},
   "outputs": [],
   "source": [
    "target_data.head(5)"
   ]
  },
  {
   "cell_type": "code",
   "execution_count": null,
   "metadata": {},
   "outputs": [],
   "source": [
    "for i in [23,14,10,22,26,6,28,11,13]:\n",
    "    target_data.loc[(target_data[\"Absenteeism_time_in_hours\"].isnull()) & (target_data['Reason_for_absence']==i),'Absenteeism_time_in_hours'] = target_data.loc[target_data['Reason_for_absence']==i,'Absenteeism_time_in_hours'].median()"
   ]
  },
  {
   "cell_type": "code",
   "execution_count": null,
   "metadata": {},
   "outputs": [],
   "source": [
    "target_data = target_data.drop(columns = ['Reason_for_absence'])\n"
   ]
  },
  {
   "cell_type": "code",
   "execution_count": null,
   "metadata": {},
   "outputs": [],
   "source": [
    "target_data"
   ]
  },
  {
   "cell_type": "code",
   "execution_count": null,
   "metadata": {},
   "outputs": [],
   "source": [
    "categorical_data.isna().sum()"
   ]
  },
  {
   "cell_type": "code",
   "execution_count": null,
   "metadata": {},
   "outputs": [],
   "source": [
    "for i in categorical_col:\n",
    "    data[i] = pd.Categorical(data[i])\n",
    "  \n",
    "data.info()"
   ]
  },
  {
   "cell_type": "code",
   "execution_count": null,
   "metadata": {},
   "outputs": [],
   "source": [
    "datamv = pd.concat([continuous_data, categorical_data], axis=1, join='inner')\n"
   ]
  },
  {
   "cell_type": "code",
   "execution_count": null,
   "metadata": {},
   "outputs": [],
   "source": [
    "datamv = pd.concat([datamv, target_data], axis=1, join='inner')"
   ]
  },
  {
   "cell_type": "code",
   "execution_count": null,
   "metadata": {},
   "outputs": [],
   "source": [
    "datamv.head(20)"
   ]
  },
  {
   "cell_type": "code",
   "execution_count": null,
   "metadata": {},
   "outputs": [],
   "source": [
    "data = datamv.copy()\n"
   ]
  },
  {
   "cell_type": "code",
   "execution_count": null,
   "metadata": {},
   "outputs": [],
   "source": [
    "data.head(20)"
   ]
  },
  {
   "cell_type": "markdown",
   "metadata": {},
   "source": [
    "# Outlier Analysis\n",
    "Boxplot to check for Outliers"
   ]
  },
  {
   "cell_type": "code",
   "execution_count": null,
   "metadata": {},
   "outputs": [],
   "source": [
    "plt.figure(1)\n",
    "\n",
    "plt.subplot(221)\n",
    "sns.boxplot(data[\"Transportation_expense\"])\n",
    "\n",
    "plt.subplot(222)\n",
    "sns.boxplot(data[\"Distance_from_Residence_to_Work\"])\n",
    "\n",
    "plt.subplot(223)\n",
    "sns.boxplot(data[\"Service_time\"])\n",
    "\n",
    "plt.subplot(224)\n",
    "sns.boxplot(data[\"Age\"])"
   ]
  },
  {
   "cell_type": "code",
   "execution_count": null,
   "metadata": {},
   "outputs": [],
   "source": [
    "plt.figure(0)\n",
    "\n",
    "plt.subplot(221)\n",
    "sns.boxplot(data[\"Work_load_Average_per_day\"])\n",
    "\n",
    "plt.subplot(222)\n",
    "sns.boxplot(data[\"Hit_target\"])\n",
    "\n",
    "plt.subplot(223)\n",
    "sns.boxplot(data[\"Weight\"])\n",
    "\n",
    "plt.subplot(224)\n",
    "sns.boxplot(data[\"Height\"])"
   ]
  },
  {
   "cell_type": "code",
   "execution_count": null,
   "metadata": {},
   "outputs": [],
   "source": [
    "plt.subplot(221)\n",
    "sns.boxplot(data[\"Body_mass_index\"])"
   ]
  },
  {
   "cell_type": "code",
   "execution_count": null,
   "metadata": {},
   "outputs": [],
   "source": [
    "# Storing columns names of columns with outliers\n",
    "col_out = [\"Transportation_expense\", \"Service_time\", \"Age\", \"Work_load_Average_per_day\",\n",
    "           \"Son\", \"Pet\", \"Hit_target\", \"Height\"]\n",
    "print(col_out)"
   ]
  },
  {
   "cell_type": "code",
   "execution_count": null,
   "metadata": {},
   "outputs": [],
   "source": [
    "# Replacing Outliers with nan\n",
    "\n",
    "for col in col_out:\n",
    "    q75, q25 = np.percentile(data.loc[:,col], [75,25])\n",
    "    iqr = q75 - q25\n",
    "    \n",
    "    minimum = q25 - (iqr * 1.5)\n",
    "    maximum = q75 + (iqr * 1.5)\n",
    "    \n",
    "    data.loc[data.loc[:,col] < minimum, col] = minimum\n",
    "    data.loc[data.loc[:,col] > maximum, col] = maximum\n",
    "    \n"
   ]
  },
  {
   "cell_type": "code",
   "execution_count": null,
   "metadata": {},
   "outputs": [],
   "source": [
    "# Data types have been changed\n",
    "# Converting the data type to categorical \n",
    "#for i in categorical_col:\n",
    "#    data[i] = pd.Categorical(data[i])\n",
    "  \n",
    "data.info()"
   ]
  },
  {
   "cell_type": "code",
   "execution_count": null,
   "metadata": {},
   "outputs": [],
   "source": [
    "data_clean = data.copy()"
   ]
  },
  {
   "cell_type": "code",
   "execution_count": null,
   "metadata": {},
   "outputs": [],
   "source": [
    "data.head()"
   ]
  },
  {
   "cell_type": "markdown",
   "metadata": {},
   "source": [
    "# EDA"
   ]
  },
  {
   "cell_type": "code",
   "execution_count": null,
   "metadata": {},
   "outputs": [],
   "source": [
    "# Checking distribution\n",
    "# Continuous Variables\n",
    "plt.figure(figsize=(15,15))\n",
    "plt.figure(1)\n",
    "plt.subplot(221)\n",
    "sns.distplot(data['Transportation_expense'].dropna())\n",
    "\n",
    "plt.subplot(222)\n",
    "sns.distplot(data['Distance_from_Residence_to_Work'].dropna())\n",
    "\n",
    "plt.subplot(223)\n",
    "sns.distplot(data['Work_load_Average_per_day'].dropna())\n",
    "\n",
    "plt.subplot(224)\n",
    "sns.distplot(data['Service_time'].dropna())\n"
   ]
  },
  {
   "cell_type": "code",
   "execution_count": null,
   "metadata": {},
   "outputs": [],
   "source": [
    "plt.figure(figsize=(15,15))\n",
    "plt.figure(1)\n",
    "plt.subplot(221)\n",
    "sns.distplot(data['Age'].dropna())\n",
    "\n",
    "plt.subplot(222)\n",
    "sns.distplot(data['Weight'].dropna())\n",
    "\n",
    "plt.subplot(223)\n",
    "sns.distplot(data['Hit_target'].dropna())\n",
    "\n",
    "plt.subplot(224)\n",
    "sns.distplot(data['Height'].dropna())\n"
   ]
  },
  {
   "cell_type": "code",
   "execution_count": null,
   "metadata": {},
   "outputs": [],
   "source": [
    "plt.figure(figsize=(15,15))\n",
    "plt.figure(1)\n",
    "plt.subplot(221)\n",
    "sns.distplot(data['Son'].dropna())\n",
    "plt.subplot(222)\n",
    "sns.distplot(data['Pet'].dropna())\n",
    "plt.subplot(223)\n",
    "sns.distplot(data['Body_mass_index'].dropna())\n",
    "plt.subplot(224)\n",
    "sns.distplot(data['Absenteeism_time_in_hours'].dropna())"
   ]
  },
  {
   "cell_type": "code",
   "execution_count": null,
   "metadata": {},
   "outputs": [],
   "source": [
    "# Value counts\n",
    "for i in data.columns:\n",
    "    print(i,'-',len(data[i].value_counts()))"
   ]
  },
  {
   "cell_type": "code",
   "execution_count": null,
   "metadata": {},
   "outputs": [],
   "source": [
    "plt.figure(1)\n",
    "plt.subplot(221)\n",
    "data['ID'].value_counts(normalize=True).plot.bar(figsize=(20,10), title= 'ID')\n",
    "\n",
    "plt.subplot(222)\n",
    "data['Reason_for_absence'].value_counts(normalize=True).plot.bar(title= 'Reason for absence')\n",
    "\n",
    "plt.subplot(223)\n",
    "data['Month_of_absence'].value_counts(normalize=True).plot.bar(title= 'Month of absence')\n",
    "\n",
    "plt.subplot(224)\n",
    "data['Seasons'].value_counts(normalize=True).plot.bar(title= 'Seasons')\n",
    "\n",
    "plt.show()"
   ]
  },
  {
   "cell_type": "code",
   "execution_count": null,
   "metadata": {},
   "outputs": [],
   "source": [
    "plt.figure(1)\n",
    "plt.subplot(221)\n",
    "data['Disciplinary_failure'].value_counts(normalize=True).plot.bar(figsize=(20,10), title= 'Disciplinary failure')\n",
    "\n",
    "plt.subplot(222)\n",
    "data['Education'].value_counts(normalize=True).plot.bar(title= 'Education')\n",
    "\n",
    "plt.subplot(223)\n",
    "data['Social_drinker'].value_counts(normalize=True).plot.bar(figsize=(20,10), title= 'Disciplinary failure')\n",
    "\n",
    "plt.subplot(224)\n",
    "data['Social_smoker'].value_counts(normalize=True).plot.bar(title= 'Education')\n",
    "\n",
    "plt.show()"
   ]
  },
  {
   "cell_type": "markdown",
   "metadata": {},
   "source": [
    "# Checking relationship of continuous variable with target variable"
   ]
  },
  {
   "cell_type": "code",
   "execution_count": null,
   "metadata": {},
   "outputs": [],
   "source": [
    "data.loc[:,continuous_col].corr()"
   ]
  },
  {
   "cell_type": "code",
   "execution_count": null,
   "metadata": {},
   "outputs": [],
   "source": [
    "\n",
    "# Set the width and height of the plot\n",
    "f, ax = plt.subplots(figsize=(10, 10))\n",
    "\n",
    "# Generate correlation matrix\n",
    "corr = data.loc[:, continuous_col].corr()\n",
    "\n",
    "# Plot using seaborn library\n",
    "sns.heatmap(corr, mask=np.zeros_like(corr,dtype=np.bool),\n",
    "           square=True, ax=ax, annot=True)\n",
    "\n",
    "plt.plot()"
   ]
  },
  {
   "cell_type": "markdown",
   "metadata": {},
   "source": [
    "From correlation table and plot above we can say that independent continuous variables has weak relationship with the target variable. Because Correlation of every continuous variable with target varaible is less than 0.2"
   ]
  },
  {
   "cell_type": "markdown",
   "metadata": {},
   "source": [
    "# Checking relationship of categorical variable with target variable"
   ]
  },
  {
   "cell_type": "code",
   "execution_count": null,
   "metadata": {},
   "outputs": [],
   "source": [
    "categorical_col"
   ]
  },
  {
   "cell_type": "code",
   "execution_count": null,
   "metadata": {},
   "outputs": [],
   "source": [
    "plt.figure(figsize=(15,7))\n",
    "plt.title('ID vs Absenteeism_time_in_hours')\n",
    "plt.bar(data['ID'], data['Absenteeism_time_in_hours'])\n"
   ]
  },
  {
   "cell_type": "code",
   "execution_count": null,
   "metadata": {},
   "outputs": [],
   "source": [
    "plt.figure(figsize=(15,7))\n",
    "plt.title('Reason_for_absence vs Absenteeism_time_in_hours')\n",
    "plt.bar(data['Reason_for_absence'], data['Absenteeism_time_in_hours'])\n"
   ]
  },
  {
   "cell_type": "code",
   "execution_count": null,
   "metadata": {},
   "outputs": [],
   "source": [
    "\n",
    "plt.figure(figsize=(15,7))\n",
    "plt.title('Reason_for_absence vs Absenteeism_time_in_hours')\n",
    "plt.bar(data['Month_of_absence'], data['Absenteeism_time_in_hours'])\n"
   ]
  },
  {
   "cell_type": "code",
   "execution_count": null,
   "metadata": {},
   "outputs": [],
   "source": [
    "\n",
    "plt.figure(figsize=(15,7))\n",
    "plt.title('Day_of_the_week vs Absenteeism_time_in_hours')\n",
    "plt.bar(data['Day_of_the_week'], data['Absenteeism_time_in_hours'])\n"
   ]
  },
  {
   "cell_type": "code",
   "execution_count": null,
   "metadata": {},
   "outputs": [],
   "source": [
    "\n",
    "plt.figure(figsize=(15,7))\n",
    "plt.title('Seasons vs Absenteeism_time_in_hours')\n",
    "plt.bar(data['Seasons'], data['Absenteeism_time_in_hours'])\n"
   ]
  },
  {
   "cell_type": "code",
   "execution_count": null,
   "metadata": {},
   "outputs": [],
   "source": [
    "\n",
    "plt.figure(figsize=(15,7))\n",
    "plt.title('Disciplinary_failure vs Absenteeism_time_in_hours')\n",
    "plt.bar(data['Disciplinary_failure'], data['Absenteeism_time_in_hours'])\n"
   ]
  },
  {
   "cell_type": "code",
   "execution_count": null,
   "metadata": {},
   "outputs": [],
   "source": [
    "\n",
    "plt.figure(figsize=(15,7))\n",
    "plt.title('Education vs Absenteeism_time_in_hours')\n",
    "plt.bar(data['Education'], data['Absenteeism_time_in_hours'])\n"
   ]
  },
  {
   "cell_type": "code",
   "execution_count": null,
   "metadata": {},
   "outputs": [],
   "source": [
    "\n",
    "plt.figure(figsize=(15,7))\n",
    "plt.title('Social_smoker vs Absenteeism_time_in_hours')\n",
    "plt.bar(data['Social_smoker'], data['Absenteeism_time_in_hours'])\n"
   ]
  },
  {
   "cell_type": "code",
   "execution_count": null,
   "metadata": {},
   "outputs": [],
   "source": [
    "\n",
    "plt.figure(figsize=(15,7))\n",
    "plt.title('Social_drinker vs Absenteeism_time_in_hours')\n",
    "plt.bar(data['Social_drinker'], data['Absenteeism_time_in_hours'])\n"
   ]
  },
  {
   "cell_type": "markdown",
   "metadata": {},
   "source": [
    "# Feature Selection"
   ]
  },
  {
   "cell_type": "code",
   "execution_count": null,
   "metadata": {},
   "outputs": [],
   "source": [
    "# Set the width and height of the plot\n",
    "f, ax = plt.subplots(figsize=(10, 10))\n",
    "\n",
    "# Generate correlation matrix\n",
    "corr = data.loc[:, continuous_col].corr()\n",
    "\n",
    "# Plot using seaborn library\n",
    "sns.heatmap(corr, mask=np.zeros_like(corr,dtype=np.bool),\n",
    "           square=True, ax=ax, annot=True)\n",
    "\n",
    "plt.plot()"
   ]
  },
  {
   "cell_type": "code",
   "execution_count": null,
   "metadata": {},
   "outputs": [],
   "source": [
    "# Anova Test\n",
    "formula = 'Absenteeism_time_in_hours~Reason_for_absence+Month_of_absence+Day_of_the_week+Seasons+Disciplinary_failure+Education+Social_drinker+Social_smoker'\n",
    "anova_model = ols(formula, data=data).fit()\n",
    "anova_table = anova_lm(anova_model, type=2)\n",
    "print(anova_table)"
   ]
  },
  {
   "cell_type": "code",
   "execution_count": null,
   "metadata": {},
   "outputs": [],
   "source": [
    "data = data.drop(['Weight'], axis=1)\n",
    "continuous_col.remove('Weight')"
   ]
  },
  {
   "cell_type": "markdown",
   "metadata": {},
   "source": [
    "# Feature Scaling"
   ]
  },
  {
   "cell_type": "code",
   "execution_count": null,
   "metadata": {},
   "outputs": [],
   "source": [
    "continuous_col_wo_target = ['Transportation_expense', 'Distance_from_Residence_to_Work', 'Service_time', 'Age',\n",
    "                            'Work_load_Average_per_day', 'Hit_target', 'Height', 'Body_mass_index']\n",
    "print(continuous_col_wo_target)"
   ]
  },
  {
   "cell_type": "code",
   "execution_count": null,
   "metadata": {},
   "outputs": [],
   "source": [
    "# Checking distribution of the data\n",
    "\n",
    "for col in continuous_col_wo_target:\n",
    "    sns.distplot(data[col], bins = 'auto')\n",
    "    plt.title(\"Distribution of \"+str(col))\n",
    "    plt.show()"
   ]
  },
  {
   "cell_type": "markdown",
   "metadata": {},
   "source": [
    "##### There are no normally distributed columns"
   ]
  },
  {
   "cell_type": "code",
   "execution_count": null,
   "metadata": {},
   "outputs": [],
   "source": [
    "# Normalization\n",
    "for i in continuous_col_wo_target:\n",
    "    data[i] = (data[i] - data[i].min())/(data[i].max() - data[i].min())\n",
    "    print(i)"
   ]
  },
  {
   "cell_type": "markdown",
   "metadata": {},
   "source": [
    "# Model Building"
   ]
  },
  {
   "cell_type": "code",
   "execution_count": null,
   "metadata": {},
   "outputs": [],
   "source": [
    "# Splitting data into train and test\n",
    "features = data.iloc[:,data.columns != 'Absenteeism_time_in_hours']\n",
    "target = data['Absenteeism_time_in_hours']\n",
    "x_train, x_test, y_train, y_test = train_test_split(features, target, test_size = 0.20)"
   ]
  },
  {
   "cell_type": "code",
   "execution_count": null,
   "metadata": {},
   "outputs": [],
   "source": [
    "# Creating function to return evaluation metrics\n",
    "\n",
    "def metrics(t, p):\n",
    "    mae = mean_absolute_error(t,p)\n",
    "    mse = mean_squared_error(t, p)\n",
    "    rmse = np.sqrt(mean_squared_error(t,p))\n",
    "    rsqr = r2_score(t,p)\n",
    "    accuracy = 100 - rmse\n",
    "    \n",
    "    print('RMSE      :',rmse)\n",
    "    print('MSE       :',mse)\n",
    "    print('MAE       :',mae)\n",
    "    print('R²        :',rsqr)\n",
    "    print('Accuracy  : {} %'.format(accuracy))\n",
    "    \n"
   ]
  },
  {
   "cell_type": "markdown",
   "metadata": {},
   "source": [
    "### KNN Algorithm"
   ]
  },
  {
   "cell_type": "code",
   "execution_count": null,
   "metadata": {},
   "outputs": [],
   "source": [
    "\n",
    "knn_model = KNeighborsRegressor(n_neighbors=3).fit(x_train, y_train)\n",
    "knn_predict = knn_model.predict(x_test)\n",
    "metrics(y_test, knn_predict)"
   ]
  },
  {
   "cell_type": "markdown",
   "metadata": {},
   "source": [
    "### Decision Tree"
   ]
  },
  {
   "cell_type": "code",
   "execution_count": null,
   "metadata": {},
   "outputs": [],
   "source": [
    "dt_model = DecisionTreeRegressor(max_depth=2).fit(x_train, y_train)\n",
    "dt_predict = dt_model.predict(x_test)\n",
    "metrics(y_test, dt_predict)"
   ]
  },
  {
   "cell_type": "markdown",
   "metadata": {},
   "source": [
    "### Random Forest"
   ]
  },
  {
   "cell_type": "code",
   "execution_count": null,
   "metadata": {},
   "outputs": [],
   "source": [
    "rf_model = RandomForestRegressor(n_estimators=500).fit(x_train, y_train)\n",
    "rf_predict = rf_model.predict(x_test)\n",
    "metrics(y_test, rf_predict)"
   ]
  },
  {
   "cell_type": "markdown",
   "metadata": {},
   "source": [
    "### Linear Regression"
   ]
  },
  {
   "cell_type": "code",
   "execution_count": null,
   "metadata": {},
   "outputs": [],
   "source": [
    "lin_reg_model = LinearRegression().fit(x_train, y_train)\n",
    "lin_reg_predict = lin_reg_model.predict(x_test)\n",
    "metrics(y_test, lin_reg_predict)"
   ]
  },
  {
   "cell_type": "markdown",
   "metadata": {},
   "source": [
    "### Gradient Boosting"
   ]
  },
  {
   "cell_type": "code",
   "execution_count": null,
   "metadata": {},
   "outputs": [],
   "source": [
    "gb_model = GradientBoostingRegressor().fit(x_train, y_train)\n",
    "gb_predict = gb_model.predict(x_test)\n",
    "metrics(y_test, gb_predict)"
   ]
  },
  {
   "cell_type": "raw",
   "metadata": {},
   "source": [
    "# Forecasting absenteeism time in hours every month for 2011"
   ]
  },
  {
   "cell_type": "code",
   "execution_count": null,
   "metadata": {},
   "outputs": [],
   "source": [
    "data.head()\n"
   ]
  },
  {
   "cell_type": "code",
   "execution_count": null,
   "metadata": {},
   "outputs": [],
   "source": [
    "absenteeism_monthly = data.groupby(\"Month_of_absence\")['Absenteeism_time_in_hours'].sum()\n",
    "absenteeism_monthly = absenteeism_monthly.reset_index()\n",
    "print(absenteeism_monthly)"
   ]
  },
  {
   "cell_type": "code",
   "execution_count": null,
   "metadata": {},
   "outputs": [],
   "source": [
    "# As the data of 3 years, We should divide Absenteeism_time_in_hours by 3 for every month\n",
    "\n",
    "absenteeism_monthly['Absenteeism_hours_by_months'] = absenteeism_monthly['Absenteeism_time_in_hours']/3\n",
    "absenteeism_monthly['Month_of_absence'] = absenteeism_monthly['Month_of_absence'].astype('int')\n",
    "print(absenteeism_monthly)"
   ]
  },
  {
   "cell_type": "code",
   "execution_count": null,
   "metadata": {},
   "outputs": [],
   "source": [
    "absenteeism_monthly = absenteeism_monthly.drop(['Absenteeism_time_in_hours'], axis = 1)\n",
    "absenteeism_monthly = absenteeism_monthly.set_index('Month_of_absence')\n",
    "time_series = absenteeism_monthly['Absenteeism_hours_by_months']\n",
    "print(time_series)"
   ]
  },
  {
   "cell_type": "code",
   "execution_count": null,
   "metadata": {},
   "outputs": [],
   "source": [
    "# Now lets plot absence hours by month\n",
    "plt.figure(figsize=(15,7))\n",
    "plt.plot(time_series)"
   ]
  },
  {
   "cell_type": "markdown",
   "metadata": {},
   "source": [
    "#### Checking if time series is stationary\n",
    "That means mean, variance and covariance is constant over period of time"
   ]
  },
  {
   "cell_type": "code",
   "execution_count": null,
   "metadata": {},
   "outputs": [],
   "source": [
    "plot_acf(time_series)"
   ]
  },
  {
   "cell_type": "code",
   "execution_count": null,
   "metadata": {
    "scrolled": true
   },
   "outputs": [],
   "source": [
    "df_test = adfuller(time_series, autolag='AIC')\n",
    "df_output = pd.Series(df_test[0:4], index=['Test Statistic','p-value','#Lags Used','Number of Observations Used'])\n",
    "\n",
    "for key, value in df_test[4].items():\n",
    "    df_output['Critical Value (%s)'%key] = value\n",
    "print(df_output)"
   ]
  },
  {
   "cell_type": "markdown",
   "metadata": {},
   "source": [
    "##### From the result above we can say that the time series is not stationary because Test Statistics is greater than Critical Value for  1%, 5%, 10% "
   ]
  },
  {
   "cell_type": "code",
   "execution_count": null,
   "metadata": {},
   "outputs": [],
   "source": [
    "time_series_log = np.log(time_series)"
   ]
  },
  {
   "cell_type": "code",
   "execution_count": null,
   "metadata": {},
   "outputs": [],
   "source": [
    "plt.plot(time_series_log)"
   ]
  },
  {
   "cell_type": "code",
   "execution_count": null,
   "metadata": {},
   "outputs": [],
   "source": [
    "time_series_diff = time_series_log - time_series_log.shift()"
   ]
  },
  {
   "cell_type": "code",
   "execution_count": null,
   "metadata": {},
   "outputs": [],
   "source": [
    "plt.figure(figsize=(15,10))\n",
    "plt.plot(time_series_diff)\n",
    "print(time_series_diff)"
   ]
  },
  {
   "cell_type": "code",
   "execution_count": null,
   "metadata": {},
   "outputs": [],
   "source": [
    "time_series_diff.fillna(0,inplace=True)\n",
    "df_test = adfuller(time_series_diff)\n",
    "df_output = pd.Series(df_test[0:4], index=['Test Statistic','p-value','#Lags Used','Number of Observations Used'])\n",
    "\n",
    "for key, value in df_test[4].items():\n",
    "    df_output['Critical Value (%s)'%key] = value\n",
    "print(df_output)"
   ]
  },
  {
   "cell_type": "markdown",
   "metadata": {},
   "source": [
    "##### From the result above we can say that the time series is not stationary because Test Statistics is greater than Critical Value for  1%, 5%, 10% "
   ]
  },
  {
   "cell_type": "code",
   "execution_count": null,
   "metadata": {},
   "outputs": [],
   "source": [
    "time_series_diff1 = time_series_diff - time_series_diff.shift()"
   ]
  },
  {
   "cell_type": "code",
   "execution_count": null,
   "metadata": {},
   "outputs": [],
   "source": [
    "plt.figure(figsize=(15,10))\n",
    "plt.plot(time_series_diff1)\n",
    "print(time_series_diff1)"
   ]
  },
  {
   "cell_type": "code",
   "execution_count": null,
   "metadata": {},
   "outputs": [],
   "source": [
    "time_series_diff1.fillna(0,inplace=True)\n",
    "df_test = adfuller(time_series_diff1, autolag='AIC')\n",
    "df_output = pd.Series(df_test[0:4], index=['Test Statistic','p-value','#Lags Used','Number of Observations Used'])\n",
    "\n",
    "for key, value in df_test[4].items():\n",
    "    df_output['Critical Value (%s)'%key] = value\n",
    "print(df_output)"
   ]
  },
  {
   "cell_type": "code",
   "execution_count": null,
   "metadata": {},
   "outputs": [],
   "source": [
    "time_series_diff2 = time_series_diff1 - time_series_diff1.shift()"
   ]
  },
  {
   "cell_type": "code",
   "execution_count": null,
   "metadata": {},
   "outputs": [],
   "source": [
    "plt.figure(figsize=(15,10))\n",
    "plt.plot(time_series_diff2)\n",
    "print(time_series_diff2)"
   ]
  },
  {
   "cell_type": "code",
   "execution_count": null,
   "metadata": {},
   "outputs": [],
   "source": [
    "time_series_diff2.fillna(0,inplace=True)\n",
    "df_test = adfuller(time_series_diff2, autolag='AIC')\n",
    "df_output = pd.Series(df_test[0:4], index=['Test Statistic','p-value','#Lags Used','Number of Observations Used'])\n",
    "\n",
    "for key, value in df_test[4].items():\n",
    "    df_output['Critical Value (%s)'%key] = value\n",
    "print(df_output)"
   ]
  },
  {
   "cell_type": "markdown",
   "metadata": {},
   "source": [
    "##### Now the Time Series is stationary because Test Statistics is lesser than Critical Vaue for 10% and 5%"
   ]
  },
  {
   "cell_type": "markdown",
   "metadata": {},
   "source": [
    "\n",
    "#### Ploting ACF and PACF plots\n",
    "- ACF -> Auto-correlation funtion\n",
    "- PACF -> Partial auto-correlation function"
   ]
  },
  {
   "cell_type": "code",
   "execution_count": null,
   "metadata": {},
   "outputs": [],
   "source": [
    "acf_plot = acf(time_series_diff2, nlags=10)\n",
    "pacf_plot = pacf(time_series_diff2, nlags=10, method='ols')"
   ]
  },
  {
   "cell_type": "code",
   "execution_count": null,
   "metadata": {},
   "outputs": [],
   "source": [
    "# ACF plot\n",
    "plt.figure(figsize=(20, 7))\n",
    "plt.subplot(121) \n",
    "plt.plot(acf_plot)\n",
    "plt.axhline(y=0,linestyle='--',color='gray')\n",
    "plt.axhline(y=-1.96/np.sqrt(len(time_series_diff2)),linestyle='--',color='gray')\n",
    "plt.axhline(y=1.96/np.sqrt(len(time_series_diff2)),linestyle='--',color='gray')\n",
    "plt.title('Autocorrelation Function')\n",
    "plt.tight_layout()"
   ]
  },
  {
   "cell_type": "code",
   "execution_count": null,
   "metadata": {},
   "outputs": [],
   "source": [
    "# PACF plot\n",
    "plt.figure(figsize=(20, 7))\n",
    "plt.subplot(121) \n",
    "plt.plot(pacf_plot)\n",
    "plt.axhline(y=0,linestyle='--',color='gray')\n",
    "plt.axhline(y=-1.96/np.sqrt(len(time_series_diff2)),linestyle='--',color='gray')\n",
    "plt.axhline(y=1.96/np.sqrt(len(time_series_diff2)),linestyle='--',color='gray')\n",
    "plt.title('Autocorrelation Function')\n",
    "plt.tight_layout()"
   ]
  },
  {
   "cell_type": "code",
   "execution_count": null,
   "metadata": {},
   "outputs": [],
   "source": [
    "# Checking for best pdq value\n",
    "\n",
    "p=d=q=range(0,5)\n",
    "pdq = list(itertools.product(p,d,q))\n",
    "print(pdq)"
   ]
  },
  {
   "cell_type": "code",
   "execution_count": null,
   "metadata": {},
   "outputs": [],
   "source": [
    "for param in pdq:\n",
    "    try:\n",
    "        model_arima = ARIMA(time_series_diff2,order=param)\n",
    "        model_arima_fit = model_arima.fit()\n",
    "        RSS = (model_arima_fit.fittedvalues-time_series_diff2)**2\n",
    "        RSS.fillna(0,inplace=True)\n",
    "        print(param, model_arima_fit.aic)\n",
    "        print(\"RSS\", sum(RSS))\n",
    "        print(\"\\n\")\n",
    "    except:\n",
    "        continue"
   ]
  },
  {
   "cell_type": "markdown",
   "metadata": {},
   "source": [
    "pdq value of (3,0,4) gives least value for RSS. So we will use (3,0,4) as the parameters for ARIMA model"
   ]
  },
  {
   "cell_type": "code",
   "execution_count": null,
   "metadata": {},
   "outputs": [],
   "source": [
    "model_arima = ARIMA(time_series_diff2, order=(3,0,4))\n",
    "model_arima_fit = model_arima.fit()\n",
    "model_arima_fit.fittedvalues\n",
    "print(model_arima_fit.aic)"
   ]
  },
  {
   "cell_type": "code",
   "execution_count": null,
   "metadata": {},
   "outputs": [],
   "source": [
    "plt.figure(figsize=(15,7))\n",
    "plt.plot(time_series_diff2)\n",
    "plt.plot(model_arima_fit.fittedvalues, color='red')"
   ]
  },
  {
   "cell_type": "code",
   "execution_count": null,
   "metadata": {},
   "outputs": [],
   "source": [
    "# Prediction\n",
    "predictions = model_arima_fit.predict(start = 12, end = 24)\n",
    "print(predictions)"
   ]
  },
  {
   "cell_type": "markdown",
   "metadata": {},
   "source": [
    "Removing 12 because it belongs to previous year"
   ]
  },
  {
   "cell_type": "code",
   "execution_count": null,
   "metadata": {},
   "outputs": [],
   "source": [
    "predictions_ARIMA = predictions[1:]\n",
    "print(predictions_ARIMA)"
   ]
  },
  {
   "cell_type": "code",
   "execution_count": null,
   "metadata": {},
   "outputs": [],
   "source": [
    "predictions_ARIMA_cumsum = predictions_ARIMA.cumsum()\n",
    "print(time_series_diff2)\n",
    "print(predictions_ARIMA_cumsum)"
   ]
  },
  {
   "cell_type": "code",
   "execution_count": null,
   "metadata": {},
   "outputs": [],
   "source": [
    "predictions_ARIMA_log = pd.Series(4.8, index=range(13,25))\n",
    "predictions_ARIMA_log = predictions_ARIMA_log.add(predictions_ARIMA_cumsum, fill_value=0)"
   ]
  },
  {
   "cell_type": "code",
   "execution_count": null,
   "metadata": {},
   "outputs": [],
   "source": [
    "sum(time_series_log)/12"
   ]
  },
  {
   "cell_type": "code",
   "execution_count": null,
   "metadata": {},
   "outputs": [],
   "source": [
    "predictions_ARIMA_log"
   ]
  },
  {
   "cell_type": "code",
   "execution_count": null,
   "metadata": {},
   "outputs": [],
   "source": [
    "predictions_ARIMA = np.exp(predictions_ARIMA_log)\n",
    "print(predictions_ARIMA)"
   ]
  },
  {
   "cell_type": "code",
   "execution_count": null,
   "metadata": {},
   "outputs": [],
   "source": [
    "# Plotting Time Series and Prediction\n",
    "plt.figure(figsize=(15,7))\n",
    "plt.plot(time_series)\n",
    "plt.plot(predictions_ARIMA, color='red')"
   ]
  },
  {
   "cell_type": "code",
   "execution_count": null,
   "metadata": {},
   "outputs": [],
   "source": [
    "predictions_ARIMA.mean()"
   ]
  },
  {
   "cell_type": "code",
   "execution_count": null,
   "metadata": {},
   "outputs": [],
   "source": []
  }
 ],
 "metadata": {
  "kernelspec": {
   "display_name": "Python 3",
   "language": "python",
   "name": "python3"
  },
  "language_info": {
   "codemirror_mode": {
    "name": "ipython",
    "version": 3
   },
   "file_extension": ".py",
   "mimetype": "text/x-python",
   "name": "python",
   "nbconvert_exporter": "python",
   "pygments_lexer": "ipython3",
   "version": "3.7.3"
  }
 },
 "nbformat": 4,
 "nbformat_minor": 2
}
